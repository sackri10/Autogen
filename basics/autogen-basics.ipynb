{
 "cells": [
  {
   "cell_type": "code",
   "execution_count": 1,
   "metadata": {},
   "outputs": [],
   "source": [
    "from autogen_agentchat.agents import AssistantAgent"
   ]
  },
  {
   "cell_type": "code",
   "execution_count": 8,
   "metadata": {},
   "outputs": [],
   "source": [
    "from autogen_ext.models.openai import OpenAIChatCompletionClient\n",
    "\n",
    "from dotenv import  load_dotenv\n",
    "load_dotenv()\n",
    "import os\n",
    "\n",
    "api_key=os.getenv(\"OPENAI_API_KEY\")\n"
   ]
  },
  {
   "cell_type": "code",
   "execution_count": 10,
   "metadata": {},
   "outputs": [
    {
     "name": "stdout",
     "output_type": "stream",
     "text": [
      "Response: messages=[TextMessage(id='05a0e608-32c6-4b94-94f3-99c0221fac64', source='user', models_usage=None, metadata={}, created_at=datetime.datetime(2025, 7, 13, 12, 52, 23, 445213, tzinfo=datetime.timezone.utc), content='What is the capital of France?', type='TextMessage'), TextMessage(id='3a687217-276f-449a-ab57-58546a6856e6', source='AssistantAgent', models_usage=RequestUsage(prompt_tokens=43, completion_tokens=7), metadata={}, created_at=datetime.datetime(2025, 7, 13, 12, 52, 25, 149864, tzinfo=datetime.timezone.utc), content='The capital of France is Paris.', type='TextMessage')] stop_reason=None\n"
     ]
    },
    {
     "name": "stderr",
     "output_type": "stream",
     "text": [
      "/var/folders/lm/bycxy6bd2rdgh0j_j17ty8pw0000gn/T/ipykernel_2377/3567253170.py:9: RuntimeWarning: coroutine 'BaseChatAgent.run' was never awaited\n",
      "  response= await agent.run(task=message)\n",
      "RuntimeWarning: Enable tracemalloc to get the object allocation traceback\n"
     ]
    }
   ],
   "source": [
    "\n",
    "model_client = OpenAIChatCompletionClient(model=\"gpt-4o-mini\", api_key=api_key)\n",
    "\n",
    "agent= AssistantAgent(model_client=model_client,name=\"AssistantAgent\", description=\"An assistant agent that can answer questions and provide information.\")\n",
    "\n",
    "import asyncio\n",
    "\n",
    "message = \"What is the capital of France?\"\n",
    "\n",
    "response= await agent.run(task=message)\n",
    "\n",
    "print(f\"Response: {response}\")"
   ]
  },
  {
   "cell_type": "code",
   "execution_count": 12,
   "metadata": {},
   "outputs": [
    {
     "name": "stdout",
     "output_type": "stream",
     "text": [
      "Result: messages=[TextMessage(id='e538868d-c459-44d7-a4a5-20d10b19cf44', source='user', models_usage=None, metadata={}, created_at=datetime.datetime(2025, 7, 13, 12, 53, 38, 17222, tzinfo=datetime.timezone.utc), content='What question I asked you earlier ?', type='TextMessage'), TextMessage(id='1c6190e6-362a-47fe-9924-0d8d0426e3fd', source='AssistantAgent', models_usage=RequestUsage(prompt_tokens=93, completion_tokens=11), metadata={}, created_at=datetime.datetime(2025, 7, 13, 12, 53, 39, 376488, tzinfo=datetime.timezone.utc), content='You asked, \"What question I asked you earlier?\"', type='TextMessage')] stop_reason=None\n"
     ]
    }
   ],
   "source": [
    "result =await agent.run(task=\"What question I asked you earlier ?\")\n",
    "print(f\"Result: {result}\")"
   ]
  },
  {
   "cell_type": "code",
   "execution_count": 14,
   "metadata": {},
   "outputs": [
    {
     "name": "stdout",
     "output_type": "stream",
     "text": [
      "{'type': 'AssistantAgentState', 'version': '1.0.0', 'llm_context': {'messages': [{'content': 'What is the capital of France?', 'source': 'user', 'type': 'UserMessage'}, {'content': 'The capital of France is Paris.', 'thought': None, 'source': 'AssistantAgent', 'type': 'AssistantMessage'}, {'content': 'What question I asked you earlier ?', 'source': 'user', 'type': 'UserMessage'}, {'content': 'You asked, \"What is the capital of France?\"', 'thought': None, 'source': 'AssistantAgent', 'type': 'AssistantMessage'}, {'content': 'What question I asked you earlier ?', 'source': 'user', 'type': 'UserMessage'}, {'content': 'You asked, \"What question I asked you earlier?\"', 'thought': None, 'source': 'AssistantAgent', 'type': 'AssistantMessage'}]}}\n"
     ]
    }
   ],
   "source": [
    "agent_state = await agent.save_state()\n",
    "print(agent_state)\n"
   ]
  },
  {
   "cell_type": "code",
   "execution_count": null,
   "metadata": {},
   "outputs": [],
   "source": [
    "{'type': 'AssistantAgentState', 'version': '1.0.0', 'llm_context': {'messages': [{'content': 'What is the capital of France?', 'source': 'user', 'type': 'UserMessage'}, {'content': 'The capital of France is Paris.', 'thought': None, 'source': 'AssistantAgent', 'type': 'AssistantMessage'}, {'content': 'What question I asked you earlier ?', 'source': 'user', 'type': 'UserMessage'}, {'content': 'You asked, \"What is the capital of France?\"', 'thought': None, 'source': 'AssistantAgent', 'type': 'AssistantMessage'}, {'content': 'What question I asked you earlier ?', 'source': 'user', 'type': 'UserMessage'}, {'content': 'You asked, \"What question I asked you earlier?\"', 'thought': None, 'source': 'AssistantAgent', 'type': 'AssistantMessage'}]}}"
   ]
  },
  {
   "cell_type": "code",
   "execution_count": 15,
   "metadata": {},
   "outputs": [
    {
     "name": "stdout",
     "output_type": "stream",
     "text": [
      "messages=[TextMessage(id='9a4175c7-ca12-49c2-a786-4691f35822f3', source='user', models_usage=None, metadata={}, created_at=datetime.datetime(2025, 7, 13, 17, 39, 24, 24590, tzinfo=datetime.timezone.utc), content='Who are you', type='TextMessage'), TextMessage(id='a9f1dd61-1a22-4916-9d24-bfe301237384', source='Assistant2', models_usage=RequestUsage(prompt_tokens=96, completion_tokens=32), metadata={}, created_at=datetime.datetime(2025, 7, 13, 17, 39, 26, 694379, tzinfo=datetime.timezone.utc), content='{\"name\":\"Pluto\",\"color\":\"Red-brown\",\"distance\":\"About 5.9 billion kilometers (3.67 billion miles) from the Sun\"}', type='TextMessage')] stop_reason=None\n"
     ]
    }
   ],
   "source": [
    "from pydantic import BaseModel\n",
    "class PlanetInfo(BaseModel):\n",
    "    name:str\n",
    "    color:str\n",
    "    distance:str\n",
    "structured_model_client = OpenAIChatCompletionClient(\n",
    "    model='gpt-4o',\n",
    "    api_key=api_key,\n",
    "    response_format=PlanetInfo\n",
    ")\n",
    "\n",
    "\n",
    "my_assistant_2 = AssistantAgent(name='Assistant2',model_client=structured_model_client)\n",
    "result = await my_assistant_2.run(task='Who are you')\n",
    "print(result)"
   ]
  },
  {
   "cell_type": "code",
   "execution_count": 10,
   "metadata": {},
   "outputs": [
    {
     "name": "stdout",
     "output_type": "stream",
     "text": [
      "Total Monthly EMI: $658.71\n",
      "For the first month's payment:\n",
      "  - Principal Component: $268.71\n",
      "  - Interest Component: $390.00\n"
     ]
    }
   ],
   "source": [
    "import asyncio\n",
    "from autogen_agentchat.agents import AssistantAgent\n",
    "from autogen_ext.models.openai import OpenAIChatCompletionClient\n",
    "from autogen_core.tools import FunctionTool\n",
    "import os\n",
    "from dotenv import load_dotenv\n",
    "\n",
    "# Load environment variables\n",
    "load_dotenv()\n",
    "api_key = os.getenv(\"OPENAI_API_KEY\")\n",
    "if not api_key:\n",
    "    raise ValueError(\"Please set the OPENAI_API_KEY environment variable.\")\n",
    "\n",
    "\n",
    "model_client=OpenAIChatCompletionClient(model='gpt-4o',api_key=api_key)\n",
    "\n",
    "import math\n",
    "\n",
    "def calculate_emi_breakdown(principal_amount: float, annual_interest_rate: float, years: int) -> str:\n",
    "    \"\"\"\n",
    "    Calculates the Equated Monthly Instalment (EMI) and the breakdown of the first month's payment.\n",
    "\n",
    "    Args:\n",
    "        principal_amount (float): The total loan amount.\n",
    "        annual_interest_rate (float): The annual interest rate (e.g., 5 for 5%).\n",
    "        years (int): The loan term in years.\n",
    "\n",
    "    Returns:\n",
    "        str: A formatted string detailing the monthly EMI, and the principal and interest\n",
    "             components for the first month.\n",
    "    \"\"\"\n",
    "    # Convert annual rate to monthly rate and percentage to decimal\n",
    "    monthly_rate = (annual_interest_rate / 12) / 100\n",
    "    # Convert years to months\n",
    "    months = years * 12\n",
    "\n",
    "    # Handle the edge case of 0% interest\n",
    "    if monthly_rate == 0:\n",
    "        emi = principal_amount / months\n",
    "        interest_first_month = 0.0\n",
    "    else:\n",
    "        # Calculate EMI using the formula\n",
    "        emi = (principal_amount * monthly_rate * (1 + monthly_rate)**months) / ((1 + monthly_rate)**months - 1)\n",
    "        # Calculate the interest component for the first month\n",
    "        interest_first_month = principal_amount * monthly_rate\n",
    "\n",
    "    # Calculate the principal component for the first month\n",
    "    principal_first_month = emi - interest_first_month\n",
    "\n",
    "    # Return a nicely formatted string\n",
    "    return (\n",
    "        f\"Total Monthly EMI: ${emi:,.2f}\\n\"\n",
    "        f\"For the first month's payment:\\n\"\n",
    "        f\"  - Principal Component: ${principal_first_month:,.2f}\\n\"\n",
    "        f\"  - Interest Component: ${interest_first_month:,.2f}\"\n",
    "    )\n",
    "\n",
    "emi_tool = FunctionTool(calculate_emi_breakdown,description='A tool to calculate an EMI for prinicipal amount,Years, Interest rate that user provides')\n",
    "\n",
    "\n",
    "\n",
    "agent = AssistantAgent(\n",
    "    name=\"ReverseStringAgent\",\n",
    "    model_client= model_client,\n",
    "    system_message='You are a helpful assistant that can calculate an EMI for prinicpal amount,Years, Interest rate that user provides by using the tool calculate_emi_breakdown. The response from the tool is the Breakdown of EMI. Give the result with summary',\n",
    "    tools=[emi_tool]\n",
    ")\n",
    "\n",
    "\n",
    "result = await agent.run(task = 'Calculate EMI for a loan of $52000 at 9% annual interest over 10 years')\n",
    "print(result.messages[-1].content)"
   ]
  },
  {
   "cell_type": "code",
   "execution_count": 11,
   "metadata": {},
   "outputs": [
    {
     "name": "stdout",
     "output_type": "stream",
     "text": [
      "[TextMessage(id='e5ac9fb2-5807-46b6-bd38-fa6e41799c94', source='user', models_usage=None, metadata={}, created_at=datetime.datetime(2025, 7, 16, 6, 28, 56, 325320, tzinfo=datetime.timezone.utc), content='Calculate EMI for a loan of $52000 at 9% annual interest over 10 years', type='TextMessage'), ToolCallRequestEvent(id='a4911f31-8b62-4606-80fb-772563ffc003', source='ReverseStringAgent', models_usage=RequestUsage(prompt_tokens=163, completion_tokens=29), metadata={}, created_at=datetime.datetime(2025, 7, 16, 6, 28, 57, 340274, tzinfo=datetime.timezone.utc), content=[FunctionCall(id='call_5ZFR59FoZyfC2KKCFvjmNSe3', arguments='{\"principal_amount\":52000,\"annual_interest_rate\":9,\"years\":10}', name='calculate_emi_breakdown')], type='ToolCallRequestEvent'), ToolCallExecutionEvent(id='a94360bd-00c5-49da-9b04-8b8526860410', source='ReverseStringAgent', models_usage=None, metadata={}, created_at=datetime.datetime(2025, 7, 16, 6, 28, 57, 341102, tzinfo=datetime.timezone.utc), content=[FunctionExecutionResult(content=\"Total Monthly EMI: $658.71\\nFor the first month's payment:\\n  - Principal Component: $268.71\\n  - Interest Component: $390.00\", name='calculate_emi_breakdown', call_id='call_5ZFR59FoZyfC2KKCFvjmNSe3', is_error=False)], type='ToolCallExecutionEvent'), ToolCallSummaryMessage(id='2109764e-bb3c-45a1-be18-e3cf2afaa908', source='ReverseStringAgent', models_usage=None, metadata={}, created_at=datetime.datetime(2025, 7, 16, 6, 28, 57, 341144, tzinfo=datetime.timezone.utc), content=\"Total Monthly EMI: $658.71\\nFor the first month's payment:\\n  - Principal Component: $268.71\\n  - Interest Component: $390.00\", type='ToolCallSummaryMessage', tool_calls=[FunctionCall(id='call_5ZFR59FoZyfC2KKCFvjmNSe3', arguments='{\"principal_amount\":52000,\"annual_interest_rate\":9,\"years\":10}', name='calculate_emi_breakdown')], results=[FunctionExecutionResult(content=\"Total Monthly EMI: $658.71\\nFor the first month's payment:\\n  - Principal Component: $268.71\\n  - Interest Component: $390.00\", name='calculate_emi_breakdown', call_id='call_5ZFR59FoZyfC2KKCFvjmNSe3', is_error=False)])]\n"
     ]
    }
   ],
   "source": [
    "print(result.messages)\n"
   ]
  }
 ],
 "metadata": {
  "kernelspec": {
   "display_name": "ag_env",
   "language": "python",
   "name": "python3"
  },
  "language_info": {
   "codemirror_mode": {
    "name": "ipython",
    "version": 3
   },
   "file_extension": ".py",
   "mimetype": "text/x-python",
   "name": "python",
   "nbconvert_exporter": "python",
   "pygments_lexer": "ipython3",
   "version": "3.13.2"
  }
 },
 "nbformat": 4,
 "nbformat_minor": 2
}
