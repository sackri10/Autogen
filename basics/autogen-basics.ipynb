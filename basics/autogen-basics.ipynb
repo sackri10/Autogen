{
 "cells": [
  {
   "cell_type": "code",
   "execution_count": 1,
   "metadata": {},
   "outputs": [],
   "source": [
    "from autogen_agentchat.agents import AssistantAgent"
   ]
  },
  {
   "cell_type": "code",
   "execution_count": 8,
   "metadata": {},
   "outputs": [],
   "source": [
    "from autogen_ext.models.openai import OpenAIChatCompletionClient\n",
    "\n",
    "from dotenv import  load_dotenv\n",
    "load_dotenv()\n",
    "import os\n",
    "\n",
    "api_key=os.getenv(\"OPENAI_API_KEY\")\n"
   ]
  },
  {
   "cell_type": "code",
   "execution_count": 10,
   "metadata": {},
   "outputs": [
    {
     "name": "stdout",
     "output_type": "stream",
     "text": [
      "Response: messages=[TextMessage(id='05a0e608-32c6-4b94-94f3-99c0221fac64', source='user', models_usage=None, metadata={}, created_at=datetime.datetime(2025, 7, 13, 12, 52, 23, 445213, tzinfo=datetime.timezone.utc), content='What is the capital of France?', type='TextMessage'), TextMessage(id='3a687217-276f-449a-ab57-58546a6856e6', source='AssistantAgent', models_usage=RequestUsage(prompt_tokens=43, completion_tokens=7), metadata={}, created_at=datetime.datetime(2025, 7, 13, 12, 52, 25, 149864, tzinfo=datetime.timezone.utc), content='The capital of France is Paris.', type='TextMessage')] stop_reason=None\n"
     ]
    },
    {
     "name": "stderr",
     "output_type": "stream",
     "text": [
      "/var/folders/lm/bycxy6bd2rdgh0j_j17ty8pw0000gn/T/ipykernel_2377/3567253170.py:9: RuntimeWarning: coroutine 'BaseChatAgent.run' was never awaited\n",
      "  response= await agent.run(task=message)\n",
      "RuntimeWarning: Enable tracemalloc to get the object allocation traceback\n"
     ]
    }
   ],
   "source": [
    "\n",
    "model_client = OpenAIChatCompletionClient(model=\"gpt-4o-mini\", api_key=api_key)\n",
    "\n",
    "agent= AssistantAgent(model_client=model_client,name=\"AssistantAgent\", description=\"An assistant agent that can answer questions and provide information.\")\n",
    "\n",
    "import asyncio\n",
    "\n",
    "message = \"What is the capital of France?\"\n",
    "\n",
    "response= await agent.run(task=message)\n",
    "\n",
    "print(f\"Response: {response}\")"
   ]
  },
  {
   "cell_type": "code",
   "execution_count": 12,
   "metadata": {},
   "outputs": [
    {
     "name": "stdout",
     "output_type": "stream",
     "text": [
      "Result: messages=[TextMessage(id='e538868d-c459-44d7-a4a5-20d10b19cf44', source='user', models_usage=None, metadata={}, created_at=datetime.datetime(2025, 7, 13, 12, 53, 38, 17222, tzinfo=datetime.timezone.utc), content='What question I asked you earlier ?', type='TextMessage'), TextMessage(id='1c6190e6-362a-47fe-9924-0d8d0426e3fd', source='AssistantAgent', models_usage=RequestUsage(prompt_tokens=93, completion_tokens=11), metadata={}, created_at=datetime.datetime(2025, 7, 13, 12, 53, 39, 376488, tzinfo=datetime.timezone.utc), content='You asked, \"What question I asked you earlier?\"', type='TextMessage')] stop_reason=None\n"
     ]
    }
   ],
   "source": [
    "result =await agent.run(task=\"What question I asked you earlier ?\")\n",
    "print(f\"Result: {result}\")"
   ]
  },
  {
   "cell_type": "code",
   "execution_count": 14,
   "metadata": {},
   "outputs": [
    {
     "name": "stdout",
     "output_type": "stream",
     "text": [
      "{'type': 'AssistantAgentState', 'version': '1.0.0', 'llm_context': {'messages': [{'content': 'What is the capital of France?', 'source': 'user', 'type': 'UserMessage'}, {'content': 'The capital of France is Paris.', 'thought': None, 'source': 'AssistantAgent', 'type': 'AssistantMessage'}, {'content': 'What question I asked you earlier ?', 'source': 'user', 'type': 'UserMessage'}, {'content': 'You asked, \"What is the capital of France?\"', 'thought': None, 'source': 'AssistantAgent', 'type': 'AssistantMessage'}, {'content': 'What question I asked you earlier ?', 'source': 'user', 'type': 'UserMessage'}, {'content': 'You asked, \"What question I asked you earlier?\"', 'thought': None, 'source': 'AssistantAgent', 'type': 'AssistantMessage'}]}}\n"
     ]
    }
   ],
   "source": [
    "agent_state = await agent.save_state()\n",
    "print(agent_state)\n"
   ]
  },
  {
   "cell_type": "code",
   "execution_count": null,
   "metadata": {},
   "outputs": [],
   "source": [
    "{'type': 'AssistantAgentState', 'version': '1.0.0', 'llm_context': {'messages': [{'content': 'What is the capital of France?', 'source': 'user', 'type': 'UserMessage'}, {'content': 'The capital of France is Paris.', 'thought': None, 'source': 'AssistantAgent', 'type': 'AssistantMessage'}, {'content': 'What question I asked you earlier ?', 'source': 'user', 'type': 'UserMessage'}, {'content': 'You asked, \"What is the capital of France?\"', 'thought': None, 'source': 'AssistantAgent', 'type': 'AssistantMessage'}, {'content': 'What question I asked you earlier ?', 'source': 'user', 'type': 'UserMessage'}, {'content': 'You asked, \"What question I asked you earlier?\"', 'thought': None, 'source': 'AssistantAgent', 'type': 'AssistantMessage'}]}}"
   ]
  },
  {
   "cell_type": "code",
   "execution_count": 15,
   "metadata": {},
   "outputs": [
    {
     "name": "stdout",
     "output_type": "stream",
     "text": [
      "messages=[TextMessage(id='9a4175c7-ca12-49c2-a786-4691f35822f3', source='user', models_usage=None, metadata={}, created_at=datetime.datetime(2025, 7, 13, 17, 39, 24, 24590, tzinfo=datetime.timezone.utc), content='Who are you', type='TextMessage'), TextMessage(id='a9f1dd61-1a22-4916-9d24-bfe301237384', source='Assistant2', models_usage=RequestUsage(prompt_tokens=96, completion_tokens=32), metadata={}, created_at=datetime.datetime(2025, 7, 13, 17, 39, 26, 694379, tzinfo=datetime.timezone.utc), content='{\"name\":\"Pluto\",\"color\":\"Red-brown\",\"distance\":\"About 5.9 billion kilometers (3.67 billion miles) from the Sun\"}', type='TextMessage')] stop_reason=None\n"
     ]
    }
   ],
   "source": [
    "from pydantic import BaseModel\n",
    "class PlanetInfo(BaseModel):\n",
    "    name:str\n",
    "    color:str\n",
    "    distance:str\n",
    "structured_model_client = OpenAIChatCompletionClient(\n",
    "    model='gpt-4o',\n",
    "    api_key=api_key,\n",
    "    response_format=PlanetInfo\n",
    ")\n",
    "\n",
    "\n",
    "my_assistant_2 = AssistantAgent(name='Assistant2',model_client=structured_model_client)\n",
    "result = await my_assistant_2.run(task='Who are you')\n",
    "print(result)"
   ]
  },
  {
   "cell_type": "code",
   "execution_count": 17,
   "metadata": {},
   "outputs": [
    {
     "name": "stdout",
     "output_type": "stream",
     "text": [
      "!dlroW ,olleH\n"
     ]
    }
   ],
   "source": [
    "import asyncio\n",
    "from autogen_agentchat.agents import AssistantAgent\n",
    "from autogen_ext.models.openai import OpenAIChatCompletionClient\n",
    "from autogen_core.tools import FunctionTool\n",
    "import os\n",
    "from dotenv import load_dotenv\n",
    "\n",
    "# Load environment variables\n",
    "load_dotenv()\n",
    "api_key = os.getenv(\"OPENAI_API_KEY\")\n",
    "if not api_key:\n",
    "    raise ValueError(\"Please set the OPENAI_API_KEY environment variable.\")\n",
    "\n",
    "\n",
    "model_client=OpenAIChatCompletionClient(model='gpt-4o',api_key=api_key)\n",
    "\n",
    "def reverse_string(text: str) -> str:\n",
    "    '''\n",
    "    Reverse the given text\n",
    "\n",
    "    input:str\n",
    "\n",
    "    output:str\n",
    "\n",
    "    The reverse string is returned.\n",
    "    '''\n",
    "    return text[::-1]\n",
    "\n",
    "reverse_tool = FunctionTool(reverse_string,description='A tool to reverse a string')\n",
    "\n",
    "\n",
    "\n",
    "agent = AssistantAgent(\n",
    "    name=\"ReverseStringAgent\",\n",
    "    model_client= model_client,\n",
    "    system_message='You are a helpful assistant that can reverse string using reverse_string tool. Give the result with summary',\n",
    "    tools=[reverse_tool]\n",
    ")\n",
    "\n",
    "\n",
    "result = await agent.run(task = 'Reverse the string \"Hello, World!\"')\n",
    "print(result.messages[-1].content)"
   ]
  },
  {
   "cell_type": "code",
   "execution_count": null,
   "metadata": {},
   "outputs": [],
   "source": []
  }
 ],
 "metadata": {
  "kernelspec": {
   "display_name": "ag_env",
   "language": "python",
   "name": "python3"
  },
  "language_info": {
   "codemirror_mode": {
    "name": "ipython",
    "version": 3
   },
   "file_extension": ".py",
   "mimetype": "text/x-python",
   "name": "python",
   "nbconvert_exporter": "python",
   "pygments_lexer": "ipython3",
   "version": "3.13.2"
  }
 },
 "nbformat": 4,
 "nbformat_minor": 2
}
